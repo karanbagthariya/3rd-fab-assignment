{
 "cells": [
  {
   "cell_type": "code",
   "execution_count": 14,
   "id": "8d4ca984-49ef-4557-9b7a-a931bc781fe7",
   "metadata": {},
   "outputs": [
    {
     "name": "stdout",
     "output_type": "stream",
     "text": [
      "0\n",
      "1\n",
      "1\n",
      "2\n",
      "3\n",
      "5\n",
      "8\n",
      "13\n",
      "21\n",
      "34\n"
     ]
    }
   ],
   "source": [
    "number = 10\n",
    "a,b=0,1\n",
    "counter=0\n",
    "while counter<number:\n",
    "    print(a)\n",
    "    c=a+b\n",
    "    a=b\n",
    "    b=c\n",
    "    counter=counter+1"
   ]
  },
  {
   "cell_type": "code",
   "execution_count": null,
   "id": "bdc02630-75ba-44db-a1ce-1bd15183a248",
   "metadata": {},
   "outputs": [],
   "source": [
    "i=1\n",
    "while i<=5:\n",
    "      j=1\n",
    "while j<=i:\n",
    "    print(j,end=\" \")\n",
    "j=j+1\n",
    "print(\"\")\n",
    "i=i+1"
   ]
  },
  {
   "cell_type": "code",
   "execution_count": null,
   "id": "e107a661-418c-4fcf-bf15-daa2d57cf0f9",
   "metadata": {},
   "outputs": [],
   "source": [
    "ty"
   ]
  },
  {
   "cell_type": "code",
   "execution_count": null,
   "id": "a5ab9a46-588d-43f7-9e33-32e899a1e4ef",
   "metadata": {},
   "outputs": [],
   "source": [
    "num=12345678910"
   ]
  },
  {
   "cell_type": "code",
   "execution_count": null,
   "id": "a35807f3-d2b7-4dcb-9723-7395c2b7b23c",
   "metadata": {},
   "outputs": [],
   "source": [
    "num=12345678910\n",
    "reverse=0\n",
    "while num>0:\n",
    "    last_digit=num % 10\n",
    "    reverse=reverse*10+last_digit\n",
    "    num // 10\n",
    "print(reverse)"
   ]
  },
  {
   "cell_type": "code",
   "execution_count": null,
   "id": "e1cb9e93-57ff-47de-825d-57194cde6420",
   "metadata": {},
   "outputs": [],
   "source": [
    "n = int(input('Enter a number : '))\n",
    "\treversed = 0\n",
    "\twhile(n!=0):\n",
    "\t\tr=int(n%10)\n",
    "\t\treversed = reversed*10 + r\n",
    "\t\tn=int(n/10)"
   ]
  },
  {
   "cell_type": "code",
   "execution_count": null,
   "id": "44c80f11-d816-4c0f-9fca-e03091ccaee5",
   "metadata": {},
   "outputs": [],
   "source": []
  },
  {
   "cell_type": "code",
   "execution_count": null,
   "id": "ef4b0a3a-8df9-4cf9-9a94-c9432d5c3a3d",
   "metadata": {},
   "outputs": [],
   "source": []
  },
  {
   "cell_type": "code",
   "execution_count": null,
   "id": "77243a53-bfc5-447c-b032-aa5e626e801f",
   "metadata": {},
   "outputs": [],
   "source": []
  }
 ],
 "metadata": {
  "kernelspec": {
   "display_name": "Python 3 (ipykernel)",
   "language": "python",
   "name": "python3"
  },
  "language_info": {
   "codemirror_mode": {
    "name": "ipython",
    "version": 3
   },
   "file_extension": ".py",
   "mimetype": "text/x-python",
   "name": "python",
   "nbconvert_exporter": "python",
   "pygments_lexer": "ipython3",
   "version": "3.10.8"
  }
 },
 "nbformat": 4,
 "nbformat_minor": 5
}
